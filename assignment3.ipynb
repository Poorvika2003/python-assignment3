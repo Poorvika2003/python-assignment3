{
  "nbformat": 4,
  "nbformat_minor": 0,
  "metadata": {
    "colab": {
      "provenance": []
    },
    "kernelspec": {
      "name": "python3",
      "display_name": "Python 3"
    },
    "language_info": {
      "name": "python"
    }
  },
  "cells": [
    {
      "cell_type": "markdown",
      "source": [
        "Name: Poorvika R\n",
        "\n",
        "Part1: Basic Slicing:\n",
        "\n",
        "1. Introduction to slicing: a)Given a string s = \"Hello World!\",slice and print the following\n",
        "i.The entire string"
      ],
      "metadata": {
        "id": "uhMsddEvRiVK"
      }
    },
    {
      "cell_type": "code",
      "execution_count": 1,
      "metadata": {
        "colab": {
          "base_uri": "https://localhost:8080/"
        },
        "id": "LcqclVKTQ1ft",
        "outputId": "d79da4ee-296a-4af9-8944-c2058c51a897"
      },
      "outputs": [
        {
          "output_type": "stream",
          "name": "stdout",
          "text": [
            "Hello World!\n"
          ]
        }
      ],
      "source": [
        "s = \"Hello World!\"\n",
        "print(s)"
      ]
    },
    {
      "cell_type": "markdown",
      "source": [
        "ii.The frist 5 characters"
      ],
      "metadata": {
        "id": "iYoOdJa_S7hP"
      }
    },
    {
      "cell_type": "code",
      "source": [
        "s = \"Hello World!\"\n",
        "s[0:5]"
      ],
      "metadata": {
        "colab": {
          "base_uri": "https://localhost:8080/",
          "height": 35
        },
        "id": "2nDV5np3S6JU",
        "outputId": "c234686e-e581-4880-c910-017edfc1fd31"
      },
      "execution_count": 2,
      "outputs": [
        {
          "output_type": "execute_result",
          "data": {
            "text/plain": [
              "'Hello'"
            ],
            "application/vnd.google.colaboratory.intrinsic+json": {
              "type": "string"
            }
          },
          "metadata": {},
          "execution_count": 2
        }
      ]
    },
    {
      "cell_type": "markdown",
      "source": [
        "iii.The last characters"
      ],
      "metadata": {
        "id": "Xm9D1o1zTIST"
      }
    },
    {
      "cell_type": "code",
      "source": [
        "s = \"Hello World!\"\n",
        "s[6:12]"
      ],
      "metadata": {
        "colab": {
          "base_uri": "https://localhost:8080/",
          "height": 35
        },
        "id": "Xy31tcXhTHMt",
        "outputId": "69115205-2858-44a4-f098-ff925f7a219b"
      },
      "execution_count": 4,
      "outputs": [
        {
          "output_type": "execute_result",
          "data": {
            "text/plain": [
              "'World!'"
            ],
            "application/vnd.google.colaboratory.intrinsic+json": {
              "type": "string"
            }
          },
          "metadata": {},
          "execution_count": 4
        }
      ]
    },
    {
      "cell_type": "markdown",
      "source": [
        "iv.The string excludes the frist and last characters"
      ],
      "metadata": {
        "id": "OvvoRtJWTWkQ"
      }
    },
    {
      "cell_type": "code",
      "source": [
        "s = \"Hello World!\"\n",
        "s[1:11]"
      ],
      "metadata": {
        "colab": {
          "base_uri": "https://localhost:8080/",
          "height": 35
        },
        "id": "ngZO-p1bTRHj",
        "outputId": "ed7145ab-b3e9-41e3-919b-95a9ae7c7272"
      },
      "execution_count": 5,
      "outputs": [
        {
          "output_type": "execute_result",
          "data": {
            "text/plain": [
              "'ello World'"
            ],
            "application/vnd.google.colaboratory.intrinsic+json": {
              "type": "string"
            }
          },
          "metadata": {},
          "execution_count": 5
        }
      ]
    },
    {
      "cell_type": "markdown",
      "source": [
        "v.Every second character in the string"
      ],
      "metadata": {
        "id": "ixlaRNDfTkl5"
      }
    },
    {
      "cell_type": "code",
      "source": [
        "s = \"Hello, World!\"\n",
        "s[0::2]"
      ],
      "metadata": {
        "colab": {
          "base_uri": "https://localhost:8080/",
          "height": 35
        },
        "id": "LUxDANr-Tis4",
        "outputId": "06b09343-385d-4b50-c505-e2cab56b8469"
      },
      "execution_count": 8,
      "outputs": [
        {
          "output_type": "execute_result",
          "data": {
            "text/plain": [
              "'Hlo ol!'"
            ],
            "application/vnd.google.colaboratory.intrinsic+json": {
              "type": "string"
            }
          },
          "metadata": {},
          "execution_count": 8
        }
      ]
    },
    {
      "cell_type": "markdown",
      "source": [
        "2.Slicing with negative indices: a.Use negative indices to slice and orint the following from the string s: a. The last 3 characters"
      ],
      "metadata": {
        "id": "XKlu3ybvTyxr"
      }
    },
    {
      "cell_type": "code",
      "source": [
        "s = \"Hello, World!\"\n",
        "s[:-4:-1]"
      ],
      "metadata": {
        "colab": {
          "base_uri": "https://localhost:8080/",
          "height": 35
        },
        "id": "Lj3e4ga8TurC",
        "outputId": "8d6220e7-1977-4e7e-ab1b-174b04d6e22f"
      },
      "execution_count": 9,
      "outputs": [
        {
          "output_type": "execute_result",
          "data": {
            "text/plain": [
              "'!dl'"
            ],
            "application/vnd.google.colaboratory.intrinsic+json": {
              "type": "string"
            }
          },
          "metadata": {},
          "execution_count": 9
        }
      ]
    },
    {
      "cell_type": "markdown",
      "source": [
        "b. The string reversed"
      ],
      "metadata": {
        "id": "trDHnlFjUQIA"
      }
    },
    {
      "cell_type": "code",
      "source": [
        "s = \"Hello, World!\"\n",
        "s[::-1]"
      ],
      "metadata": {
        "colab": {
          "base_uri": "https://localhost:8080/",
          "height": 35
        },
        "id": "9RoRtTjbUOTg",
        "outputId": "3053380d-1084-41ba-e599-98ca03a63eff"
      },
      "execution_count": 10,
      "outputs": [
        {
          "output_type": "execute_result",
          "data": {
            "text/plain": [
              "'!dlroW ,olleH'"
            ],
            "application/vnd.google.colaboratory.intrinsic+json": {
              "type": "string"
            }
          },
          "metadata": {},
          "execution_count": 10
        }
      ]
    },
    {
      "cell_type": "markdown",
      "source": [
        "Part2:Advanced Slicing\n",
        "\n",
        "1.Slicing Substring: a.Given a sentence=\"The quick brown fox jumps over lazy dog\",slice and print the following  \n",
        "i.The word \"quick"
      ],
      "metadata": {
        "id": "er1KEkUUUYPi"
      }
    },
    {
      "cell_type": "code",
      "source": [
        "sentence = \"The quick brown fox jumps over the lazy dog\"\n",
        "sentence[4:9]"
      ],
      "metadata": {
        "colab": {
          "base_uri": "https://localhost:8080/",
          "height": 35
        },
        "id": "dr9PQ8TOUVo9",
        "outputId": "de97f94e-38fc-4350-959d-9efc8d57e697"
      },
      "execution_count": 11,
      "outputs": [
        {
          "output_type": "execute_result",
          "data": {
            "text/plain": [
              "'quick'"
            ],
            "application/vnd.google.colaboratory.intrinsic+json": {
              "type": "string"
            }
          },
          "metadata": {},
          "execution_count": 11
        }
      ]
    },
    {
      "cell_type": "markdown",
      "source": [
        "ii.The word \"lazy\""
      ],
      "metadata": {
        "id": "n-UMU48AVA_s"
      }
    },
    {
      "cell_type": "code",
      "source": [
        "sentence = \"The quick brown fox jumps over the lazy dog\"\n",
        "sentence[35:39]"
      ],
      "metadata": {
        "colab": {
          "base_uri": "https://localhost:8080/",
          "height": 35
        },
        "id": "8ZQ4AWSEU9Ig",
        "outputId": "fdf00f74-e2c5-4934-f43b-2c7a2cf9dd15"
      },
      "execution_count": 13,
      "outputs": [
        {
          "output_type": "execute_result",
          "data": {
            "text/plain": [
              "'lazy'"
            ],
            "application/vnd.google.colaboratory.intrinsic+json": {
              "type": "string"
            }
          },
          "metadata": {},
          "execution_count": 13
        }
      ]
    },
    {
      "cell_type": "markdown",
      "source": [
        "iii.The words \"brown fox jumps\""
      ],
      "metadata": {
        "id": "0xMoQuJwVT4h"
      }
    },
    {
      "cell_type": "code",
      "source": [
        "sentence = \"The quick brown fox jumps over the lazy dog\"\n",
        "sentence[10:25]"
      ],
      "metadata": {
        "colab": {
          "base_uri": "https://localhost:8080/",
          "height": 35
        },
        "id": "o8pyx28yVJuI",
        "outputId": "b920d241-0752-48e9-c44c-7df16743a6b0"
      },
      "execution_count": 14,
      "outputs": [
        {
          "output_type": "execute_result",
          "data": {
            "text/plain": [
              "'brown fox jumps'"
            ],
            "application/vnd.google.colaboratory.intrinsic+json": {
              "type": "string"
            }
          },
          "metadata": {},
          "execution_count": 14
        }
      ]
    },
    {
      "cell_type": "markdown",
      "source": [
        "2.Step Slicing: a. Using step slicing to print the following from the string s:\n",
        "\n",
        "i.Every third character."
      ],
      "metadata": {
        "id": "PXo-rmnoVfer"
      }
    },
    {
      "cell_type": "code",
      "source": [
        "a = \"welcome to python\"\n",
        "a[::3]"
      ],
      "metadata": {
        "colab": {
          "base_uri": "https://localhost:8080/",
          "height": 35
        },
        "id": "_rIDF9T1VdTT",
        "outputId": "3d8d446b-09d1-4f85-dbdd-edc26a6fef42"
      },
      "execution_count": 15,
      "outputs": [
        {
          "output_type": "execute_result",
          "data": {
            "text/plain": [
              "'wceoyo'"
            ],
            "application/vnd.google.colaboratory.intrinsic+json": {
              "type": "string"
            }
          },
          "metadata": {},
          "execution_count": 15
        }
      ]
    },
    {
      "cell_type": "markdown",
      "source": [
        "ii.Every third character starting from the second character"
      ],
      "metadata": {
        "id": "4nGGZ3hGV0iG"
      }
    },
    {
      "cell_type": "code",
      "source": [
        "a = \"welcome to python\"\n",
        "a[1::3]"
      ],
      "metadata": {
        "colab": {
          "base_uri": "https://localhost:8080/",
          "height": 35
        },
        "id": "6MvmW846Vykc",
        "outputId": "b8b71ad7-8f91-41d9-e363-27a23d87e879"
      },
      "execution_count": 16,
      "outputs": [
        {
          "output_type": "execute_result",
          "data": {
            "text/plain": [
              "'eo  tn'"
            ],
            "application/vnd.google.colaboratory.intrinsic+json": {
              "type": "string"
            }
          },
          "metadata": {},
          "execution_count": 16
        }
      ]
    },
    {
      "cell_type": "markdown",
      "source": [
        "iii.The string reversed,stepping by 2"
      ],
      "metadata": {
        "id": "UkcogihkWAUa"
      }
    },
    {
      "cell_type": "code",
      "source": [
        "a = \"welcome to python\"\n",
        "a[::-2]"
      ],
      "metadata": {
        "colab": {
          "base_uri": "https://localhost:8080/",
          "height": 35
        },
        "id": "AjuseoSpV-0q",
        "outputId": "c3607b85-6e6c-40d6-9a3e-dcda203811f5"
      },
      "execution_count": 17,
      "outputs": [
        {
          "output_type": "execute_result",
          "data": {
            "text/plain": [
              "'nhy teolw'"
            ],
            "application/vnd.google.colaboratory.intrinsic+json": {
              "type": "string"
            }
          },
          "metadata": {},
          "execution_count": 17
        }
      ]
    },
    {
      "cell_type": "markdown",
      "source": [
        "Part3: Practical Application the following:\n",
        "\n",
        "1.Extracting Information: a. Given a string data =\"2024-09-01,Sunny,25°C\",extract and print\n",
        "\n",
        "i.The date"
      ],
      "metadata": {
        "id": "CYBaZUgOWK0D"
      }
    },
    {
      "cell_type": "code",
      "source": [
        "data = \"2024-09-03,Sunny,25°C\"\n",
        "data[0:10]"
      ],
      "metadata": {
        "colab": {
          "base_uri": "https://localhost:8080/",
          "height": 35
        },
        "id": "uMunbwF9WJa_",
        "outputId": "f2d492a5-1d10-4b91-e7f2-b00730f12a24"
      },
      "execution_count": 18,
      "outputs": [
        {
          "output_type": "execute_result",
          "data": {
            "text/plain": [
              "'2024-09-03'"
            ],
            "application/vnd.google.colaboratory.intrinsic+json": {
              "type": "string"
            }
          },
          "metadata": {},
          "execution_count": 18
        }
      ]
    },
    {
      "cell_type": "markdown",
      "source": [
        "ii.The weather condition"
      ],
      "metadata": {
        "id": "GOrIpL36XNBZ"
      }
    },
    {
      "cell_type": "code",
      "source": [
        "data = \"2024-09-03,Sunny,25°C\"\n",
        "data[11:16]"
      ],
      "metadata": {
        "colab": {
          "base_uri": "https://localhost:8080/",
          "height": 35
        },
        "id": "jVGlKGNbXK8r",
        "outputId": "b5100629-3f83-40be-a408-f9be37e95b5f"
      },
      "execution_count": 19,
      "outputs": [
        {
          "output_type": "execute_result",
          "data": {
            "text/plain": [
              "'Sunny'"
            ],
            "application/vnd.google.colaboratory.intrinsic+json": {
              "type": "string"
            }
          },
          "metadata": {},
          "execution_count": 19
        }
      ]
    },
    {
      "cell_type": "markdown",
      "source": [
        "iii.Temperature"
      ],
      "metadata": {
        "id": "LATq_F48XUyw"
      }
    },
    {
      "cell_type": "code",
      "source": [
        "data = \"2024-09-03,Sunny,25°C\"\n",
        "data[17:21]"
      ],
      "metadata": {
        "colab": {
          "base_uri": "https://localhost:8080/",
          "height": 35
        },
        "id": "GukpyckfXTkR",
        "outputId": "b795488c-3173-4f72-e26a-be08b2e364dc"
      },
      "execution_count": 20,
      "outputs": [
        {
          "output_type": "execute_result",
          "data": {
            "text/plain": [
              "'25°C'"
            ],
            "application/vnd.google.colaboratory.intrinsic+json": {
              "type": "string"
            }
          },
          "metadata": {},
          "execution_count": 20
        }
      ]
    },
    {
      "cell_type": "markdown",
      "source": [
        "2.Reforming Strings: i. Given a string phone_number=\"(123) 456-7890\",reformate it to '123-456-7890'"
      ],
      "metadata": {
        "id": "dqcLYa5yXaeD"
      }
    },
    {
      "cell_type": "code",
      "source": [
        "phone_number = \"(123) 456-7890\"\n",
        "phone_number[1:4] +\"-\"+phone_number[6:9] +\"-\"+ phone_number[10:14]"
      ],
      "metadata": {
        "colab": {
          "base_uri": "https://localhost:8080/",
          "height": 35
        },
        "id": "FadM_G-oXZMt",
        "outputId": "3d9360ac-c58e-4ba4-890a-36d05d9961a0"
      },
      "execution_count": 22,
      "outputs": [
        {
          "output_type": "execute_result",
          "data": {
            "text/plain": [
              "'123-456-7890'"
            ],
            "application/vnd.google.colaboratory.intrinsic+json": {
              "type": "string"
            }
          },
          "metadata": {},
          "execution_count": 22
        }
      ]
    },
    {
      "cell_type": "markdown",
      "source": [
        "Part4: Questions based on string methods\n",
        "\n",
        "1.Upper and Lower case conversion:\n",
        "i.Giver a string s=\"Hello, World!\",perform the fpllowing: a.Convert the string to all uppercase letters"
      ],
      "metadata": {
        "id": "djYLJYHnYLyE"
      }
    },
    {
      "cell_type": "code",
      "source": [
        "s = \"Hello World!\"\n",
        "s.upper()"
      ],
      "metadata": {
        "colab": {
          "base_uri": "https://localhost:8080/",
          "height": 35
        },
        "id": "lXddPmDvYGSj",
        "outputId": "140b94a4-892c-4f31-e214-07d6a2063b47"
      },
      "execution_count": 23,
      "outputs": [
        {
          "output_type": "execute_result",
          "data": {
            "text/plain": [
              "'HELLO WORLD!'"
            ],
            "application/vnd.google.colaboratory.intrinsic+json": {
              "type": "string"
            }
          },
          "metadata": {},
          "execution_count": 23
        }
      ]
    },
    {
      "cell_type": "markdown",
      "source": [
        "b:Convert all string to lowercase letters"
      ],
      "metadata": {
        "id": "obrphHk4Yw0X"
      }
    },
    {
      "cell_type": "code",
      "source": [
        "s = \"Hello World!\"\n",
        "s.lower()"
      ],
      "metadata": {
        "colab": {
          "base_uri": "https://localhost:8080/",
          "height": 35
        },
        "id": "Udt4dXWAYvki",
        "outputId": "361e2812-7c4d-4148-adb8-535aedfdd377"
      },
      "execution_count": 24,
      "outputs": [
        {
          "output_type": "execute_result",
          "data": {
            "text/plain": [
              "'hello world!'"
            ],
            "application/vnd.google.colaboratory.intrinsic+json": {
              "type": "string"
            }
          },
          "metadata": {},
          "execution_count": 24
        }
      ]
    },
    {
      "cell_type": "markdown",
      "source": [
        "c:convert all the string to title case"
      ],
      "metadata": {
        "id": "mDAU4yzgZBqL"
      }
    },
    {
      "cell_type": "code",
      "source": [
        "s = \"Hello World!\"\n",
        "s.title()"
      ],
      "metadata": {
        "colab": {
          "base_uri": "https://localhost:8080/",
          "height": 35
        },
        "id": "Ydl_R8PiY_iD",
        "outputId": "ccc259e3-6bba-4ce9-d215-2e1f66300cc9"
      },
      "execution_count": 25,
      "outputs": [
        {
          "output_type": "execute_result",
          "data": {
            "text/plain": [
              "'Hello World!'"
            ],
            "application/vnd.google.colaboratory.intrinsic+json": {
              "type": "string"
            }
          },
          "metadata": {},
          "execution_count": 25
        }
      ]
    },
    {
      "cell_type": "markdown",
      "source": [
        "d: capitalize the first letter of the string"
      ],
      "metadata": {
        "id": "YhzZ9zl_ZLFW"
      }
    },
    {
      "cell_type": "code",
      "source": [
        "s = \"Hello World!\"\n",
        "s.capitalize()"
      ],
      "metadata": {
        "colab": {
          "base_uri": "https://localhost:8080/",
          "height": 35
        },
        "id": "-93-jNa6ZJBf",
        "outputId": "f65cba47-f7c9-4d42-c4c6-0eb210972cb8"
      },
      "execution_count": 26,
      "outputs": [
        {
          "output_type": "execute_result",
          "data": {
            "text/plain": [
              "'Hello world!'"
            ],
            "application/vnd.google.colaboratory.intrinsic+json": {
              "type": "string"
            }
          },
          "metadata": {},
          "execution_count": 26
        }
      ]
    },
    {
      "cell_type": "markdown",
      "source": [
        "2.Finding Substrings:Given a string s=\"The quick brown fox jumps over the lazy dog\",perform the following\n",
        "\n",
        "a.Find thebposition of the substring \"fox\""
      ],
      "metadata": {
        "id": "WDN3p4b1ZXRi"
      }
    },
    {
      "cell_type": "code",
      "source": [
        "s = \"The quick brown fox jumps over the lazy dog\"\n",
        "s.find(\"fox\")"
      ],
      "metadata": {
        "colab": {
          "base_uri": "https://localhost:8080/"
        },
        "id": "8i6R_zfBZTP8",
        "outputId": "7582902b-bc89-43c1-e4be-c76a911fb380"
      },
      "execution_count": 28,
      "outputs": [
        {
          "output_type": "execute_result",
          "data": {
            "text/plain": [
              "16"
            ]
          },
          "metadata": {},
          "execution_count": 28
        }
      ]
    },
    {
      "cell_type": "markdown",
      "source": [
        "b.Check if the substring \"cat\" is in the string"
      ],
      "metadata": {
        "id": "Eku7D6whaAVP"
      }
    },
    {
      "cell_type": "code",
      "source": [
        "s = \"The quick brown fox jumps over the lazy dog\"\n",
        "s.find(\"cat\")"
      ],
      "metadata": {
        "colab": {
          "base_uri": "https://localhost:8080/"
        },
        "id": "XA6yw5yEZ2o7",
        "outputId": "b861d0ff-c194-4130-9c3f-97f9ce0b232e"
      },
      "execution_count": 29,
      "outputs": [
        {
          "output_type": "execute_result",
          "data": {
            "text/plain": [
              "-1"
            ]
          },
          "metadata": {},
          "execution_count": 29
        }
      ]
    },
    {
      "cell_type": "markdown",
      "source": [
        "3.Replacing Substrings: Given a string s = \"The quick brown fox jumps over the lazy dog\",perform the following:\n",
        "\n",
        "a.Replace fox with cat"
      ],
      "metadata": {
        "id": "imBSC406aLuY"
      }
    },
    {
      "cell_type": "code",
      "source": [
        "s = \"The quick brown fox jumps over the lazy dog\"\n",
        "s.replace(\"fox\",\"cat\")"
      ],
      "metadata": {
        "colab": {
          "base_uri": "https://localhost:8080/",
          "height": 35
        },
        "id": "Fz2MtSu1aJfY",
        "outputId": "f417fca0-82ca-45a8-b330-a0daf544d937"
      },
      "execution_count": 30,
      "outputs": [
        {
          "output_type": "execute_result",
          "data": {
            "text/plain": [
              "'The quick brown cat jumps over the lazy dog'"
            ],
            "application/vnd.google.colaboratory.intrinsic+json": {
              "type": "string"
            }
          },
          "metadata": {},
          "execution_count": 30
        }
      ]
    },
    {
      "cell_type": "markdown",
      "source": [
        "b.Replace all the spaces by underscores"
      ],
      "metadata": {
        "id": "-XgGdgE6amd5"
      }
    },
    {
      "cell_type": "code",
      "source": [
        "s = \"The quick brown fox jumps over the lazy dog\"\n",
        "s.replace(\" \",\"_\")"
      ],
      "metadata": {
        "colab": {
          "base_uri": "https://localhost:8080/",
          "height": 35
        },
        "id": "UG5G1on4akcV",
        "outputId": "b47ffeac-cbdd-4967-e44c-d445cce3a4a4"
      },
      "execution_count": 31,
      "outputs": [
        {
          "output_type": "execute_result",
          "data": {
            "text/plain": [
              "'The_quick_brown_fox_jumps_over_the_lazy_dog'"
            ],
            "application/vnd.google.colaboratory.intrinsic+json": {
              "type": "string"
            }
          },
          "metadata": {},
          "execution_count": 31
        }
      ]
    },
    {
      "cell_type": "markdown",
      "source": [
        "c.Split the string into list of words"
      ],
      "metadata": {
        "id": "kKVajy1ka0pd"
      }
    },
    {
      "cell_type": "code",
      "source": [
        "s = \"The quick brown fox jumps over the lazy dog\"\n",
        "s.split()"
      ],
      "metadata": {
        "colab": {
          "base_uri": "https://localhost:8080/"
        },
        "id": "E_q94V4HaxYm",
        "outputId": "b7da8d2a-5bed-452b-a763-6ed4e4b9ca8c"
      },
      "execution_count": 32,
      "outputs": [
        {
          "output_type": "execute_result",
          "data": {
            "text/plain": [
              "['The', 'quick', 'brown', 'fox', 'jumps', 'over', 'the', 'lazy', 'dog']"
            ]
          },
          "metadata": {},
          "execution_count": 32
        }
      ]
    },
    {
      "cell_type": "markdown",
      "source": [
        "d.Split the string by the letter \"o\""
      ],
      "metadata": {
        "id": "c13VG2lka9wI"
      }
    },
    {
      "cell_type": "code",
      "source": [
        "s = \"The quick brown fox jumps over the lazy dog\"\n",
        "s.split(\"o\")"
      ],
      "metadata": {
        "colab": {
          "base_uri": "https://localhost:8080/"
        },
        "id": "8_rnMhDEa75D",
        "outputId": "4a94d936-04fd-4b6e-b7ad-5699407a7c3d"
      },
      "execution_count": 33,
      "outputs": [
        {
          "output_type": "execute_result",
          "data": {
            "text/plain": [
              "['The quick br', 'wn f', 'x jumps ', 'ver the lazy d', 'g']"
            ]
          },
          "metadata": {},
          "execution_count": 33
        }
      ]
    },
    {
      "cell_type": "markdown",
      "source": [
        "4.Joining strings: Given a list of words = [\"The\",\"quick\",\"brown\",\"fox\"],perform the following:\n",
        "\n",
        "a.join the words with spaces"
      ],
      "metadata": {
        "id": "odaUiMP7bPmq"
      }
    },
    {
      "cell_type": "code",
      "source": [
        "words = [\"The\",\"quick\",\"brown\",\"fox\"]\n",
        "\" \".join(words)"
      ],
      "metadata": {
        "colab": {
          "base_uri": "https://localhost:8080/",
          "height": 35
        },
        "id": "nYD7aD8UbFXK",
        "outputId": "fcf435bd-db7a-446a-dadf-643fcdebaaf4"
      },
      "execution_count": 34,
      "outputs": [
        {
          "output_type": "execute_result",
          "data": {
            "text/plain": [
              "'The quick brown fox'"
            ],
            "application/vnd.google.colaboratory.intrinsic+json": {
              "type": "string"
            }
          },
          "metadata": {},
          "execution_count": 34
        }
      ]
    },
    {
      "cell_type": "markdown",
      "source": [
        "b.Join the words with hyphens"
      ],
      "metadata": {
        "id": "loIAaoSBbqqr"
      }
    },
    {
      "cell_type": "code",
      "source": [
        "words = [\"The\",\"quick\",\"brown\",\"fox\"]\n",
        "\"-\".join(words)"
      ],
      "metadata": {
        "colab": {
          "base_uri": "https://localhost:8080/",
          "height": 35
        },
        "id": "Quem5BuLbo8o",
        "outputId": "12205c3e-7f15-42e8-de0c-952366b90e33"
      },
      "execution_count": 37,
      "outputs": [
        {
          "output_type": "execute_result",
          "data": {
            "text/plain": [
              "'The-quick-brown-fox'"
            ],
            "application/vnd.google.colaboratory.intrinsic+json": {
              "type": "string"
            }
          },
          "metadata": {},
          "execution_count": 37
        }
      ]
    },
    {
      "cell_type": "code",
      "source": [],
      "metadata": {
        "id": "euHpc3sXbygj"
      },
      "execution_count": null,
      "outputs": []
    }
  ]
}